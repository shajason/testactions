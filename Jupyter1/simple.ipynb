{
 "cells": [
  {
   "cell_type": "code",
   "execution_count": 1,
   "metadata": {
    "nbgrader": {
     "grade": false,
     "grade_id": "squares",
     "locked": false,
     "schema_version": 3,
     "solution": true
    }
   },
   "outputs": [
    {
     "name": "stdout",
     "output_type": "stream",
     "text": [
      "[1, 4, 9, 16, 25]\n"
     ]
    }
   ],
   "source": [
    "# Complete the function below that returns a list of squares from 1 to n\n",
    "\n",
    "def squares(n):\n",
    "    \"\"\"Calculates and returns a list of squares from 1 to n\"\"\"\n",
    "    ### BEGIN SOLUTION\n",
    "    answer= []\n",
    "    for i in range(1, n+1):\n",
    "        answer.append(i ** 2)\n",
    "    return answer\n",
    "print(squares(5))\n",
    "    ### END SOLUTION"
   ]
  },
  {
   "cell_type": "code",
   "execution_count": 16,
   "metadata": {
    "nbgrader": {
     "grade": true,
     "grade_id": "squares_tests",
     "locked": true,
     "points": 10,
     "schema_version": 3,
     "solution": false
    }
   },
   "outputs": [],
   "source": [
    "\"\"\"Example of testing student code with visible and hidden tests\"\"\"\n",
    "assert squares(1)==[1]\n",
    "assert squares(2)==[1, 4]\n",
    "assert squares(3)==[1, 4, 9]\n",
    "### BEGIN HIDDEN TESTS\n",
    "assert squares(5)==[1, 4, 9, 16, 25]\n",
    "assert squares(10)==[1, 4, 9, 16, 25, 36, 49, 64, 81, 100]\n",
    "### END HIDDEN TESTS"
   ]
  }
 ],
 "metadata": {
  "celltoolbar": "Create Assignment",
  "kernelspec": {
   "display_name": "Python 3 (ipykernel)",
   "language": "python",
   "name": "python3"
  },
  "language_info": {
   "codemirror_mode": {
    "name": "ipython",
    "version": 3
   },
   "file_extension": ".py",
   "mimetype": "text/x-python",
   "name": "python",
   "nbconvert_exporter": "python",
   "pygments_lexer": "ipython3",
   "version": "3.9.11"
  }
 },
 "nbformat": 4,
 "nbformat_minor": 2
}
